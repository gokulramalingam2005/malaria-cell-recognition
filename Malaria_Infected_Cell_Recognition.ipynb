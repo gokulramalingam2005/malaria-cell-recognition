{
  "cells": [
    {
      "cell_type": "markdown",
      "metadata": {
        "id": "view-in-github",
        "colab_type": "text"
      },
      "source": [
        "<a href=\"https://colab.research.google.com/github/chetansathishkumar/malaria-cell-recognition/blob/main/Malaria_Infected_Cell_Recognition.ipynb\" target=\"_parent\"><img src=\"https://colab.research.google.com/assets/colab-badge.svg\" alt=\"Open In Colab\"/></a>"
      ]
    },
    {
      "cell_type": "code",
      "execution_count": null,
      "id": "aa1360fb-b46a-439f-93d3-2f6e615c8fd4",
      "metadata": {
        "id": "aa1360fb-b46a-439f-93d3-2f6e615c8fd4",
        "tags": []
      },
      "outputs": [],
      "source": [
        "import os\n",
        "import pandas as pd\n",
        "import numpy as np\n",
        "import seaborn as sns\n",
        "import matplotlib.pyplot as plt\n",
        "from matplotlib.image import imread\n",
        "from tensorflow.keras.preprocessing.image import ImageDataGenerator\n",
        "from tensorflow import keras\n",
        "from tensorflow.keras import layers\n",
        "from tensorflow.keras import utils\n",
        "from tensorflow.keras import models\n",
        "from sklearn.metrics import classification_report,confusion_matrix\n",
        "import tensorflow as tf\n",
        "\n",
        "%matplotlib inline"
      ]
    },
    {
      "cell_type": "code",
      "execution_count": null,
      "id": "38eca3bd-9b30-4e32-8b69-4f733a4ef3c8",
      "metadata": {
        "id": "38eca3bd-9b30-4e32-8b69-4f733a4ef3c8"
      },
      "outputs": [],
      "source": [
        "my_data_dir = '/home/ailab/hdd/dataset/cell_images'"
      ]
    },
    {
      "cell_type": "code",
      "execution_count": null,
      "id": "e7ac3968-6bb1-4266-a91c-42531286760a",
      "metadata": {
        "colab": {
          "base_uri": "https://localhost:8080/"
        },
        "id": "e7ac3968-6bb1-4266-a91c-42531286760a",
        "outputId": "af28b70d-7ab6-4b7e-b031-b9260b3ae44e"
      },
      "outputs": [
        {
          "data": {
            "text/plain": [
              "['train', 'test', '.ipynb_checkpoints']"
            ]
          },
          "execution_count": 4,
          "metadata": {},
          "output_type": "execute_result"
        }
      ],
      "source": [
        "os.listdir(my_data_dir)"
      ]
    },
    {
      "cell_type": "code",
      "execution_count": null,
      "id": "9b1ab1fa-99d5-4ddf-b777-784cf312deda",
      "metadata": {
        "id": "9b1ab1fa-99d5-4ddf-b777-784cf312deda"
      },
      "outputs": [],
      "source": [
        "test_path = my_data_dir+'/test/'\n",
        "train_path = my_data_dir+'/train/'"
      ]
    },
    {
      "cell_type": "code",
      "execution_count": null,
      "id": "2c64cb87-d1aa-4a76-9576-9d3c56f730d6",
      "metadata": {
        "colab": {
          "base_uri": "https://localhost:8080/"
        },
        "id": "2c64cb87-d1aa-4a76-9576-9d3c56f730d6",
        "outputId": "961f2cde-104f-420a-d8dd-9ba0d6e83342"
      },
      "outputs": [
        {
          "data": {
            "text/plain": [
              "['parasitized', 'uninfected']"
            ]
          },
          "execution_count": 6,
          "metadata": {},
          "output_type": "execute_result"
        }
      ],
      "source": [
        "os.listdir(train_path)"
      ]
    },
    {
      "cell_type": "code",
      "execution_count": null,
      "id": "ZI5m1DWTbk3N",
      "metadata": {
        "colab": {
          "base_uri": "https://localhost:8080/"
        },
        "id": "ZI5m1DWTbk3N",
        "outputId": "173dffb0-df85-46c8-bcea-7038352996bd"
      },
      "outputs": [
        {
          "data": {
            "text/plain": [
              "12479"
            ]
          },
          "execution_count": 6,
          "metadata": {},
          "output_type": "execute_result"
        }
      ],
      "source": [
        "len(os.listdir(train_path+'/uninfected/'))"
      ]
    },
    {
      "cell_type": "code",
      "execution_count": null,
      "id": "b6r_BpiPbtEc",
      "metadata": {
        "colab": {
          "base_uri": "https://localhost:8080/"
        },
        "id": "b6r_BpiPbtEc",
        "outputId": "2ccad392-7efb-4e3b-87ea-18601d341cc4"
      },
      "outputs": [
        {
          "data": {
            "text/plain": [
              "12480"
            ]
          },
          "execution_count": 7,
          "metadata": {},
          "output_type": "execute_result"
        }
      ],
      "source": [
        "len(os.listdir(train_path+'/parasitized/'))"
      ]
    },
    {
      "cell_type": "code",
      "execution_count": null,
      "id": "33d3464e-895c-432f-8d51-7d55f59d1324",
      "metadata": {
        "colab": {
          "base_uri": "https://localhost:8080/",
          "height": 35
        },
        "id": "33d3464e-895c-432f-8d51-7d55f59d1324",
        "outputId": "d10d575a-4b3f-4ddc-bf40-bebe6c65631d"
      },
      "outputs": [
        {
          "data": {
            "text/plain": [
              "'C101P62ThinF_IMG_20150923_165215_cell_7.png'"
            ]
          },
          "execution_count": 8,
          "metadata": {},
          "output_type": "execute_result"
        }
      ],
      "source": [
        "os.listdir(train_path+'/parasitized')[0]"
      ]
    },
    {
      "cell_type": "code",
      "execution_count": null,
      "id": "48c48cb9-e5de-4088-8215-98d5b6534846",
      "metadata": {
        "id": "48c48cb9-e5de-4088-8215-98d5b6534846"
      },
      "outputs": [],
      "source": [
        "para_img= imread(train_path+\n",
        "                 '/parasitized/'+\n",
        "                 os.listdir(train_path+'/parasitized')[0])"
      ]
    },
    {
      "cell_type": "code",
      "execution_count": null,
      "id": "518b6ed6-3759-4f58-8092-dc10e802f2ec",
      "metadata": {
        "colab": {
          "base_uri": "https://localhost:8080/",
          "height": 286
        },
        "id": "518b6ed6-3759-4f58-8092-dc10e802f2ec",
        "outputId": "0da07141-7d10-4262-f5d0-008fad09b1c9"
      },
      "outputs": [
        {
          "data": {
            "text/plain": [
              "<matplotlib.image.AxesImage at 0x7f0ad71f6730>"
            ]
          },
          "execution_count": 10,
          "metadata": {},
          "output_type": "execute_result"
        },
        {
          "data": {
            "image/png": "[encoded data removed]",
            "text/plain": [
              "<Figure size 432x288 with 1 Axes>"
            ]
          },
          "metadata": {
            "needs_background": "light"
          },
          "output_type": "display_data"
        }
      ],
      "source": [
        "plt.imshow(para_img)"
      ]
    },
    {
      "cell_type": "code",
      "execution_count": null,
      "id": "cc4b2bdf-89c9-4fc8-9fbe-ca06adef8b87",
      "metadata": {
        "id": "cc4b2bdf-89c9-4fc8-9fbe-ca06adef8b87"
      },
      "outputs": [],
      "source": [
        "# Checking the image dimensions\n",
        "dim1 = []\n",
        "dim2 = []\n",
        "for image_filename in os.listdir(test_path+'/uninfected'):\n",
        "    img = imread(test_path+'/uninfected'+'/'+image_filename)\n",
        "    d1,d2,colors = img.shape\n",
        "    dim1.append(d1)\n",
        "    dim2.append(d2)"
      ]
    },
    {
      "cell_type": "code",
      "execution_count": null,
      "id": "a6fde849-4f2e-49d4-872b-3f8b25c1d787",
      "metadata": {
        "id": "a6fde849-4f2e-49d4-872b-3f8b25c1d787"
      },
      "outputs": [],
      "source": [
        "image_shape = (130,130,3)"
      ]
    },
    {
      "cell_type": "code",
      "execution_count": null,
      "id": "a3b66990-026e-4635-8173-9c32d6a0a04d",
      "metadata": {
        "id": "a3b66990-026e-4635-8173-9c32d6a0a04d"
      },
      "outputs": [],
      "source": [
        "image_gen = ImageDataGenerator(rotation_range=20, # rotate the image 20 degrees\n",
        "                               width_shift_range=0.10, # Shift the pic width by a max of 5%\n",
        "                               height_shift_range=0.10, # Shift the pic height by a max of 5%\n",
        "                               rescale=1/255, # Rescale the image by normalzing it.\n",
        "                               shear_range=0.1, # Shear means cutting away part of the image (max 10%)\n",
        "                               zoom_range=0.1, # Zoom in by 10% max\n",
        "                               horizontal_flip=True, # Allo horizontal flipping\n",
        "                               fill_mode='nearest' # Fill in missing pixels with the nearest filled value\n",
        "                              )"
      ]
    },
    {
      "cell_type": "code",
      "execution_count": null,
      "id": "e386c090-7cc5-4c32-8312-c7e59fab76bd",
      "metadata": {
        "colab": {
          "base_uri": "https://localhost:8080/"
        },
        "id": "e386c090-7cc5-4c32-8312-c7e59fab76bd",
        "outputId": "aba6401b-cd00-4219-fed2-c333295420d5"
      },
      "outputs": [
        {
          "name": "stdout",
          "output_type": "stream",
          "text": [
            "Found 24961 images belonging to 2 classes.\n"
          ]
        },
        {
          "data": {
            "text/plain": [
              "<keras.preprocessing.image.DirectoryIterator at 0x7f0ad51c2040>"
            ]
          },
          "execution_count": 14,
          "metadata": {},
          "output_type": "execute_result"
        }
      ],
      "source": [
        "image_gen.flow_from_directory(train_path)"
      ]
    },
    {
      "cell_type": "code",
      "execution_count": null,
      "id": "e1c05004-c87c-41e2-a797-dd986b4ade02",
      "metadata": {
        "colab": {
          "base_uri": "https://localhost:8080/"
        },
        "id": "e1c05004-c87c-41e2-a797-dd986b4ade02",
        "outputId": "0963e1ff-eda1-48dd-e598-299adfae1804"
      },
      "outputs": [
        {
          "name": "stdout",
          "output_type": "stream",
          "text": [
            "Found 2600 images belonging to 2 classes.\n"
          ]
        },
        {
          "data": {
            "text/plain": [
              "<keras.preprocessing.image.DirectoryIterator at 0x7f0ad5138c10>"
            ]
          },
          "execution_count": 15,
          "metadata": {},
          "output_type": "execute_result"
        }
      ],
      "source": [
        "image_gen.flow_from_directory(test_path)"
      ]
    },
    {
      "cell_type": "code",
      "execution_count": null,
      "id": "ccbaf2f1-375a-45ca-84c8-b61af54da689",
      "metadata": {
        "id": "ccbaf2f1-375a-45ca-84c8-b61af54da689",
        "outputId": "0448583c-42b3-4154-c5af-13ed3cb9f69b"
      },
      "outputs": [
        {
          "name": "stderr",
          "output_type": "stream",
          "text": [
            "2022-09-28 13:04:39.978833: I tensorflow/stream_executor/cuda/cuda_gpu_executor.cc:975] successful NUMA node read from SysFS had negative value (-1), but there must be at least one NUMA node, so returning NUMA node zero\n",
            "2022-09-28 13:04:39.985770: I tensorflow/stream_executor/cuda/cuda_gpu_executor.cc:975] successful NUMA node read from SysFS had negative value (-1), but there must be at least one NUMA node, so returning NUMA node zero\n",
            "2022-09-28 13:04:39.985905: I tensorflow/stream_executor/cuda/cuda_gpu_executor.cc:975] successful NUMA node read from SysFS had negative value (-1), but there must be at least one NUMA node, so returning NUMA node zero\n",
            "2022-09-28 13:04:39.986480: I tensorflow/core/platform/cpu_feature_guard.cc:193] This TensorFlow binary is optimized with oneAPI Deep Neural Network Library (oneDNN) to use the following CPU instructions in performance-critical operations:  AVX2 AVX512F AVX512_VNNI FMA\n",
            "To enable them in other operations, rebuild TensorFlow with the appropriate compiler flags.\n",
            "2022-09-28 13:04:39.986867: I tensorflow/stream_executor/cuda/cuda_gpu_executor.cc:975] successful NUMA node read from SysFS had negative value (-1), but there must be at least one NUMA node, so returning NUMA node zero\n",
            "2022-09-28 13:04:39.986988: I tensorflow/stream_executor/cuda/cuda_gpu_executor.cc:975] successful NUMA node read from SysFS had negative value (-1), but there must be at least one NUMA node, so returning NUMA node zero\n",
            "2022-09-28 13:04:39.987071: I tensorflow/stream_executor/cuda/cuda_gpu_executor.cc:975] successful NUMA node read from SysFS had negative value (-1), but there must be at least one NUMA node, so returning NUMA node zero\n",
            "2022-09-28 13:04:40.556315: I tensorflow/stream_executor/cuda/cuda_gpu_executor.cc:975] successful NUMA node read from SysFS had negative value (-1), but there must be at least one NUMA node, so returning NUMA node zero\n",
            "2022-09-28 13:04:40.556458: I tensorflow/stream_executor/cuda/cuda_gpu_executor.cc:975] successful NUMA node read from SysFS had negative value (-1), but there must be at least one NUMA node, so returning NUMA node zero\n",
            "2022-09-28 13:04:40.556554: I tensorflow/stream_executor/cuda/cuda_gpu_executor.cc:975] successful NUMA node read from SysFS had negative value (-1), but there must be at least one NUMA node, so returning NUMA node zero\n",
            "2022-09-28 13:04:40.556637: I tensorflow/core/common_runtime/gpu/gpu_device.cc:1532] Created device /job:localhost/replica:0/task:0/device:GPU:0 with 12896 MB memory:  -> device: 0, name: GRID A100D-16C, pci bus id: 0000:02:00.0, compute capability: 8.0\n"
          ]
        }
      ],
      "source": [
        "model = models.Sequential()\n",
        "model.add(layers.Conv2D(filters=32,kernel_size=(3,3),input_shape=image_shape,activation='relu'))\n",
        "model.add(layers.MaxPooling2D(pool_size=(2,2)))\n",
        "\n",
        "model.add(layers.Conv2D(filters=64,kernel_size=(3,3),activation='relu'))\n",
        "model.add(layers.MaxPooling2D(pool_size=(2,2)))\n",
        "\n",
        "model.add(layers.Conv2D(filters=64,kernel_size=(3,3),activation='relu'))\n",
        "model.add(layers.MaxPooling2D(pool_size=(2,2)))\n",
        "\n",
        "model.add(layers.Flatten())\n",
        "\n",
        "model.add(layers.Dense(128))\n",
        "model.add(layers.Activation('relu'))\n",
        "\n",
        "model.add(layers.Dropout(0.5))\n",
        "\n",
        "model.add(layers.Dense(1))\n",
        "model.add(layers.Activation('sigmoid'))\n",
        "model.compile(loss='binary_crossentropy',\n",
        "              optimizer='adam',\n",
        "              metrics=['accuracy'])"
      ]
    },
    {
      "cell_type": "code",
      "execution_count": null,
      "id": "be5155d0-8c1c-4fa6-9ed9-a92a66e82e65",
      "metadata": {
        "colab": {
          "base_uri": "https://localhost:8080/"
        },
        "id": "be5155d0-8c1c-4fa6-9ed9-a92a66e82e65",
        "outputId": "1f55061b-8031-46a0-abf4-0935861aa319"
      },
      "outputs": [
        {
          "name": "stdout",
          "output_type": "stream",
          "text": [
            "Model: \"sequential\"\n",
            "_________________________________________________________________\n",
            " Layer (type)                Output Shape              Param #   \n",
            "=================================================================\n",
            " conv2d (Conv2D)             (None, 128, 128, 32)      896       \n",
            "                                                                 \n",
            " max_pooling2d (MaxPooling2D  (None, 64, 64, 32)       0         \n",
            " )                                                               \n",
            "                                                                 \n",
            " conv2d_1 (Conv2D)           (None, 62, 62, 64)        18496     \n",
            "                                                                 \n",
            " max_pooling2d_1 (MaxPooling  (None, 31, 31, 64)       0         \n",
            " 2D)                                                             \n",
            "                                                                 \n",
            " conv2d_2 (Conv2D)           (None, 29, 29, 64)        36928     \n",
            "                                                                 \n",
            " max_pooling2d_2 (MaxPooling  (None, 14, 14, 64)       0         \n",
            " 2D)                                                             \n",
            "                                                                 \n",
            " flatten (Flatten)           (None, 12544)             0         \n",
            "                                                                 \n",
            " dense (Dense)               (None, 128)               1605760   \n",
            "                                                                 \n",
            " activation (Activation)     (None, 128)               0         \n",
            "                                                                 \n",
            " dropout (Dropout)           (None, 128)               0         \n",
            "                                                                 \n",
            " dense_1 (Dense)             (None, 1)                 129       \n",
            "                                                                 \n",
            " activation_1 (Activation)   (None, 1)                 0         \n",
            "                                                                 \n",
            "=================================================================\n",
            "Total params: 1,662,209\n",
            "Trainable params: 1,662,209\n",
            "Non-trainable params: 0\n",
            "_________________________________________________________________\n"
          ]
        }
      ],
      "source": [
        "model.summary()"
      ]
    },
    {
      "cell_type": "code",
      "execution_count": null,
      "id": "66ee2c5e-bcd3-47c4-a7f7-2bf2148f6065",
      "metadata": {
        "id": "66ee2c5e-bcd3-47c4-a7f7-2bf2148f6065"
      },
      "outputs": [],
      "source": [
        "batch_size = 16"
      ]
    },
    {
      "cell_type": "code",
      "execution_count": null,
      "id": "43e258c8-58f5-4185-8bcb-2352d898a04f",
      "metadata": {
        "colab": {
          "base_uri": "https://localhost:8080/"
        },
        "id": "43e258c8-58f5-4185-8bcb-2352d898a04f",
        "outputId": "c5670118-edfd-47a8-f6b8-bb87f9346582"
      },
      "outputs": [
        {
          "name": "stdout",
          "output_type": "stream",
          "text": [
            "Found 24961 images belonging to 2 classes.\n"
          ]
        }
      ],
      "source": [
        "train_image_gen = image_gen.flow_from_directory(train_path,\n",
        "                                               target_size=image_shape[:2],\n",
        "                                                color_mode='rgb',\n",
        "                                               batch_size=batch_size,\n",
        "                                               class_mode='binary')"
      ]
    },
    {
      "cell_type": "code",
      "execution_count": null,
      "id": "0303e560-0272-442b-b535-d95749b17088",
      "metadata": {
        "colab": {
          "base_uri": "https://localhost:8080/"
        },
        "id": "0303e560-0272-442b-b535-d95749b17088",
        "outputId": "eb5f84f9-b5f5-4a2a-96ef-a9a3f48b7205"
      },
      "outputs": [
        {
          "data": {
            "text/plain": [
              "16"
            ]
          },
          "execution_count": 20,
          "metadata": {},
          "output_type": "execute_result"
        }
      ],
      "source": [
        "train_image_gen.batch_size"
      ]
    },
    {
      "cell_type": "code",
      "execution_count": null,
      "id": "3519d656-3ff8-4728-96d8-efb61fc6b5a6",
      "metadata": {
        "colab": {
          "base_uri": "https://localhost:8080/"
        },
        "id": "3519d656-3ff8-4728-96d8-efb61fc6b5a6",
        "outputId": "532490b8-b41a-4b5e-a609-a22e36ebe622"
      },
      "outputs": [
        {
          "data": {
            "text/plain": [
              "24961"
            ]
          },
          "execution_count": 21,
          "metadata": {},
          "output_type": "execute_result"
        }
      ],
      "source": [
        "len(train_image_gen.classes)"
      ]
    },
    {
      "cell_type": "code",
      "execution_count": null,
      "id": "f6f8a0f5-4ca9-493a-8d25-c531523d7412",
      "metadata": {
        "colab": {
          "base_uri": "https://localhost:8080/"
        },
        "id": "f6f8a0f5-4ca9-493a-8d25-c531523d7412",
        "outputId": "0c35d3b6-be67-4939-fd51-571376506c38"
      },
      "outputs": [
        {
          "data": {
            "text/plain": [
              "0"
            ]
          },
          "execution_count": 22,
          "metadata": {},
          "output_type": "execute_result"
        }
      ],
      "source": [
        "train_image_gen.total_batches_seen"
      ]
    },
    {
      "cell_type": "code",
      "execution_count": null,
      "id": "f72afe88-5ab6-440d-bf94-a2df7b7c8a1f",
      "metadata": {
        "colab": {
          "base_uri": "https://localhost:8080/"
        },
        "id": "f72afe88-5ab6-440d-bf94-a2df7b7c8a1f",
        "outputId": "36771d64-c8c5-4481-bfc6-43487c1ddb0f"
      },
      "outputs": [
        {
          "name": "stdout",
          "output_type": "stream",
          "text": [
            "Found 2600 images belonging to 2 classes.\n"
          ]
        }
      ],
      "source": [
        "test_image_gen = image_gen.flow_from_directory(test_path,\n",
        "                                               target_size=image_shape[:2],\n",
        "                                               color_mode='rgb',\n",
        "                                               batch_size=batch_size,\n",
        "                                               class_mode='binary',shuffle=False)"
      ]
    },
    {
      "cell_type": "code",
      "execution_count": null,
      "id": "c4ed0833-94d2-416a-9de8-b02e131fc95d",
      "metadata": {
        "colab": {
          "base_uri": "https://localhost:8080/"
        },
        "id": "c4ed0833-94d2-416a-9de8-b02e131fc95d",
        "outputId": "b954b8cc-683a-4c72-e18b-b7f5ec935b81"
      },
      "outputs": [
        {
          "data": {
            "text/plain": [
              "{'parasitized': 0, 'uninfected': 1}"
            ]
          },
          "execution_count": 24,
          "metadata": {},
          "output_type": "execute_result"
        }
      ],
      "source": [
        "train_image_gen.class_indices"
      ]
    },
    {
      "cell_type": "code",
      "execution_count": null,
      "id": "8ca428f0-45c0-4e89-a40d-8e5c56e73da1",
      "metadata": {
        "id": "8ca428f0-45c0-4e89-a40d-8e5c56e73da1"
      },
      "outputs": [],
      "source": [
        "early_stop=tf.keras.callbacks.EarlyStopping(\n",
        "    monitor='val_accuracy',\n",
        "    patience=2,\n",
        "    restore_best_weights=True\n",
        ")"
      ]
    },
    {
      "cell_type": "code",
      "execution_count": null,
      "id": "217ef4c4-0cd7-4d7c-954b-cee1717a4f8d",
      "metadata": {
        "colab": {
          "base_uri": "https://localhost:8080/",
          "height": 381
        },
        "id": "217ef4c4-0cd7-4d7c-954b-cee1717a4f8d",
        "outputId": "9e3430fb-f42b-49eb-e7cb-d77532787b6b"
      },
      "outputs": [
        {
          "name": "stdout",
          "output_type": "stream",
          "text": [
            "Epoch 1/20\n"
          ]
        },
        {
          "name": "stderr",
          "output_type": "stream",
          "text": [
            "2022-09-28 13:04:42.582079: I tensorflow/stream_executor/cuda/cuda_dnn.cc:384] Loaded cuDNN version 8201\n",
            "2022-09-28 13:04:44.132351: I tensorflow/stream_executor/cuda/cuda_blas.cc:1786] TensorFloat-32 will be used for the matrix multiplication. This will only be logged once.\n"
          ]
        },
        {
          "name": "stdout",
          "output_type": "stream",
          "text": [
            "1561/1561 [==============================] - 103s 64ms/step - loss: 0.3951 - accuracy: 0.8101 - val_loss: 0.1897 - val_accuracy: 0.9415\n",
            "Epoch 2/20\n",
            "1561/1561 [==============================] - 99s 63ms/step - loss: 0.1785 - accuracy: 0.9440 - val_loss: 0.1748 - val_accuracy: 0.9427\n",
            "Epoch 3/20\n",
            "1561/1561 [==============================] - 99s 63ms/step - loss: 0.1699 - accuracy: 0.9456 - val_loss: 0.1618 - val_accuracy: 0.9462\n",
            "Epoch 4/20\n",
            "1561/1561 [==============================] - 99s 63ms/step - loss: 0.1604 - accuracy: 0.9498 - val_loss: 0.1649 - val_accuracy: 0.9427\n",
            "Epoch 5/20\n",
            "1561/1561 [==============================] - 99s 63ms/step - loss: 0.1639 - accuracy: 0.9477 - val_loss: 0.1638 - val_accuracy: 0.9450\n"
          ]
        }
      ],
      "source": [
        "results = model.fit(train_image_gen,epochs=20,\n",
        "                              validation_data=test_image_gen,\n",
        "                    callbacks=[early_stop]\n",
        "                             )"
      ]
    },
    {
      "cell_type": "code",
      "execution_count": null,
      "id": "9b823735-06b3-4da7-9e22-946b3cd77f34",
      "metadata": {
        "id": "9b823735-06b3-4da7-9e22-946b3cd77f34"
      },
      "outputs": [],
      "source": [
        "model.save('cell_model.h5')"
      ]
    },
    {
      "cell_type": "code",
      "execution_count": null,
      "id": "dbf79be3-2d95-41b9-8c84-79dcb85d30be",
      "metadata": {
        "id": "dbf79be3-2d95-41b9-8c84-79dcb85d30be"
      },
      "outputs": [],
      "source": [
        "losses = pd.DataFrame(model.history.history)"
      ]
    },
    {
      "cell_type": "code",
      "execution_count": null,
      "id": "aff69bd3-8577-4aed-be44-ad71efe2d7e9",
      "metadata": {
        "id": "aff69bd3-8577-4aed-be44-ad71efe2d7e9",
        "outputId": "5deee3e6-27cf-400c-c558-87ddd7a85d65"
      },
      "outputs": [
        {
          "data": {
            "text/plain": [
              "<AxesSubplot:>"
            ]
          },
          "execution_count": 29,
          "metadata": {},
          "output_type": "execute_result"
        },
        {
          "data": {
            "image/png": "[encoded data removed]",
            "text/plain": [
              "<Figure size 432x288 with 1 Axes>"
            ]
          },
          "metadata": {
            "needs_background": "light"
          },
          "output_type": "display_data"
        }
      ],
      "source": [
        "losses[['loss','val_loss']].plot()"
      ]
    },
    {
      "cell_type": "code",
      "execution_count": null,
      "id": "d13eca2e-acc4-4834-a348-895320f2154a",
      "metadata": {
        "id": "d13eca2e-acc4-4834-a348-895320f2154a",
        "outputId": "695c049b-2c69-4665-90d5-be9ab0519209"
      },
      "outputs": [
        {
          "data": {
            "text/plain": [
              "['loss', 'accuracy']"
            ]
          },
          "execution_count": 30,
          "metadata": {},
          "output_type": "execute_result"
        }
      ],
      "source": [
        "model.metrics_names"
      ]
    },
    {
      "cell_type": "code",
      "execution_count": null,
      "id": "9a63116b-6ec5-4605-9c07-63386a4ee963",
      "metadata": {
        "id": "9a63116b-6ec5-4605-9c07-63386a4ee963",
        "outputId": "9ca5f1ea-bcaa-48aa-906d-0d1a0d6ad63f"
      },
      "outputs": [
        {
          "name": "stdout",
          "output_type": "stream",
          "text": [
            "163/163 [==============================] - 9s 57ms/step - loss: 0.1619 - accuracy: 0.9446\n"
          ]
        },
        {
          "data": {
            "text/plain": [
              "[0.16194553673267365, 0.944615364074707]"
            ]
          },
          "execution_count": 31,
          "metadata": {},
          "output_type": "execute_result"
        }
      ],
      "source": [
        "model.evaluate(test_image_gen)"
      ]
    },
    {
      "cell_type": "code",
      "execution_count": null,
      "id": "a5a2cd56-9317-42ce-8ac4-3966bd46bc7a",
      "metadata": {
        "id": "a5a2cd56-9317-42ce-8ac4-3966bd46bc7a",
        "outputId": "832e3317-8bc3-44f6-8c5b-8e376c79baaf"
      },
      "outputs": [
        {
          "name": "stdout",
          "output_type": "stream",
          "text": [
            "163/163 [==============================] - 9s 57ms/step\n"
          ]
        }
      ],
      "source": [
        "pred_probabilities = model.predict(test_image_gen)"
      ]
    },
    {
      "cell_type": "code",
      "execution_count": null,
      "id": "1079b0df-2e96-4cfb-b39e-2f0069526c2b",
      "metadata": {
        "id": "1079b0df-2e96-4cfb-b39e-2f0069526c2b",
        "outputId": "44707734-c330-4c12-e7fd-39bdbc588191"
      },
      "outputs": [
        {
          "data": {
            "text/plain": [
              "array([0, 0, 0, ..., 1, 1, 1], dtype=int32)"
            ]
          },
          "execution_count": 33,
          "metadata": {},
          "output_type": "execute_result"
        }
      ],
      "source": [
        "test_image_gen.classes"
      ]
    },
    {
      "cell_type": "code",
      "execution_count": null,
      "id": "a2669710-0bca-46ed-b068-2a43ad783d28",
      "metadata": {
        "id": "a2669710-0bca-46ed-b068-2a43ad783d28"
      },
      "outputs": [],
      "source": [
        "predictions = pred_probabilities > 0.5"
      ]
    },
    {
      "cell_type": "code",
      "execution_count": null,
      "id": "8ee42ece-4bf9-4970-b3f2-82674e5fede6",
      "metadata": {
        "id": "8ee42ece-4bf9-4970-b3f2-82674e5fede6",
        "outputId": "ecdbfd8e-cb51-426b-97ce-151148796a59"
      },
      "outputs": [
        {
          "name": "stdout",
          "output_type": "stream",
          "text": [
            "              precision    recall  f1-score   support\n",
            "\n",
            "           0       0.96      0.94      0.95      1300\n",
            "           1       0.94      0.96      0.95      1300\n",
            "\n",
            "    accuracy                           0.95      2600\n",
            "   macro avg       0.95      0.95      0.95      2600\n",
            "weighted avg       0.95      0.95      0.95      2600\n",
            "\n"
          ]
        }
      ],
      "source": [
        "print(classification_report(test_image_gen.classes,predictions))"
      ]
    },
    {
      "cell_type": "code",
      "execution_count": null,
      "id": "9e1a2c5b-e5ef-4239-a929-329f7218efa7",
      "metadata": {
        "id": "9e1a2c5b-e5ef-4239-a929-329f7218efa7",
        "outputId": "0f8b8166-849b-452d-d6cb-4994503afcf8"
      },
      "outputs": [
        {
          "data": {
            "text/plain": [
              "array([[1216,   84],\n",
              "       [  48, 1252]])"
            ]
          },
          "execution_count": 36,
          "metadata": {},
          "output_type": "execute_result"
        }
      ],
      "source": [
        "confusion_matrix(test_image_gen.classes,predictions)"
      ]
    },
    {
      "cell_type": "code",
      "execution_count": null,
      "id": "ec18f768-fa00-4b93-9ba1-db73ffa2bebe",
      "metadata": {
        "id": "ec18f768-fa00-4b93-9ba1-db73ffa2bebe",
        "outputId": "86b4e586-14e4-4954-cb25-8d37007e76c8"
      },
      "outputs": [
        {
          "name": "stderr",
          "output_type": "stream",
          "text": [
            "2022-09-30 11:48:37.432346: I tensorflow/stream_executor/cuda/cuda_gpu_executor.cc:975] successful NUMA node read from SysFS had negative value (-1), but there must be at least one NUMA node, so returning NUMA node zero\n",
            "2022-09-30 11:48:37.439569: I tensorflow/stream_executor/cuda/cuda_gpu_executor.cc:975] successful NUMA node read from SysFS had negative value (-1), but there must be at least one NUMA node, so returning NUMA node zero\n",
            "2022-09-30 11:48:37.439707: I tensorflow/stream_executor/cuda/cuda_gpu_executor.cc:975] successful NUMA node read from SysFS had negative value (-1), but there must be at least one NUMA node, so returning NUMA node zero\n",
            "2022-09-30 11:48:37.440419: I tensorflow/core/platform/cpu_feature_guard.cc:193] This TensorFlow binary is optimized with oneAPI Deep Neural Network Library (oneDNN) to use the following CPU instructions in performance-critical operations:  AVX2 AVX512F AVX512_VNNI FMA\n",
            "To enable them in other operations, rebuild TensorFlow with the appropriate compiler flags.\n",
            "2022-09-30 11:48:37.441016: I tensorflow/stream_executor/cuda/cuda_gpu_executor.cc:975] successful NUMA node read from SysFS had negative value (-1), but there must be at least one NUMA node, so returning NUMA node zero\n",
            "2022-09-30 11:48:37.441136: I tensorflow/stream_executor/cuda/cuda_gpu_executor.cc:975] successful NUMA node read from SysFS had negative value (-1), but there must be at least one NUMA node, so returning NUMA node zero\n",
            "2022-09-30 11:48:37.441220: I tensorflow/stream_executor/cuda/cuda_gpu_executor.cc:975] successful NUMA node read from SysFS had negative value (-1), but there must be at least one NUMA node, so returning NUMA node zero\n",
            "2022-09-30 11:48:38.014597: I tensorflow/stream_executor/cuda/cuda_gpu_executor.cc:975] successful NUMA node read from SysFS had negative value (-1), but there must be at least one NUMA node, so returning NUMA node zero\n",
            "2022-09-30 11:48:38.014745: I tensorflow/stream_executor/cuda/cuda_gpu_executor.cc:975] successful NUMA node read from SysFS had negative value (-1), but there must be at least one NUMA node, so returning NUMA node zero\n",
            "2022-09-30 11:48:38.014843: I tensorflow/stream_executor/cuda/cuda_gpu_executor.cc:975] successful NUMA node read from SysFS had negative value (-1), but there must be at least one NUMA node, so returning NUMA node zero\n",
            "2022-09-30 11:48:38.014926: I tensorflow/core/common_runtime/gpu/gpu_device.cc:1532] Created device /job:localhost/replica:0/task:0/device:GPU:0 with 8677 MB memory:  -> device: 0, name: GRID A100D-16C, pci bus id: 0000:02:00.0, compute capability: 8.0\n",
            "2022-09-30 11:48:39.400064: I tensorflow/stream_executor/cuda/cuda_dnn.cc:384] Loaded cuDNN version 8201\n"
          ]
        },
        {
          "name": "stdout",
          "output_type": "stream",
          "text": [
            "1/1 [==============================] - 2s 2s/step\n"
          ]
        },
        {
          "name": "stderr",
          "output_type": "stream",
          "text": [
            "2022-09-30 11:48:40.967782: I tensorflow/stream_executor/cuda/cuda_blas.cc:1786] TensorFloat-32 will be used for the matrix multiplication. This will only be logged once.\n"
          ]
        },
        {
          "data": {
            "image/png": "[encoded data removed]",
            "text/plain": [
              "<Figure size 432x288 with 1 Axes>"
            ]
          },
          "metadata": {
            "needs_background": "light"
          },
          "output_type": "display_data"
        }
      ],
      "source": [
        "import random\n",
        "model=models.load_model(\"cell_model.h5\")\n",
        "list_dir=[\"uninfected\",\"parasitized\"]\n",
        "dir_=(random.choice(list_dir))\n",
        "para_img= imread(train_path+\n",
        "                 '/'+dir_+'/'+\n",
        "                 os.listdir(train_path+'/'+dir_)[random.randint(0,10000)])\n",
        "img  = tf.convert_to_tensor(np.asarray(para_img))\n",
        "img = tf.image.resize(img,(130,130))\n",
        "img=img.numpy()\n",
        "pred=bool(model.predict(img.reshape(1,130,130,3))<0.5 )\n",
        "plt.title(\"Model prediction: \"+(\"Parasitized\" if pred  else \"Uninfected\")+\"\\nActual Value: \"+str(dir_))\n",
        "plt.axis(\"off\")\n",
        "plt.imshow(img)\n",
        "plt.show()"
      ]
    },
    {
      "cell_type": "code",
      "execution_count": null,
      "id": "ddc14d66-1d25-4f12-85c8-fed3b8437d67",
      "metadata": {
        "id": "ddc14d66-1d25-4f12-85c8-fed3b8437d67"
      },
      "outputs": [],
      "source": []
    }
  ],
  "metadata": {
    "accelerator": "GPU",
    "colab": {
      "collapsed_sections": [],
      "provenance": [],
      "include_colab_link": true
    },
    "kernelspec": {
      "display_name": "Python 3 (ipykernel)",
      "language": "python",
      "name": "python3"
    },
    "language_info": {
      "codemirror_mode": {
        "name": "ipython",
        "version": 3
      },
      "file_extension": ".py",
      "mimetype": "text/x-python",
      "name": "python",
      "nbconvert_exporter": "python",
      "pygments_lexer": "ipython3",
      "version": "3.8.10"
    },
    "toc-autonumbering": true,
    "toc-showcode": false
  },
  "nbformat": 4,
  "nbformat_minor": 5
}